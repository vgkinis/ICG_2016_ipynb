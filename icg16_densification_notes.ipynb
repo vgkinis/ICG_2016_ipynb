{
 "cells": [
  {
   "cell_type": "markdown",
   "metadata": {},
   "source": [
    "# Densification of polar snow"
   ]
  },
  {
   "cell_type": "markdown",
   "metadata": {},
   "source": [
    "The transformation of snow to firn and eventually ice is one of the most important processes in ice core glaciology. A \"mixed blessing\" as Christo Buizert has once called it, it gives us challenges when we try to interpret ice core records but also provides us with many paleoclimatic tools to study past climate. We will deal with densification of snow at a dry snow zone, descibe the boundary conditions of the problem and derive a simple semi-empirical model for the process of densification based on the paper by Herron and Langway. The goal of this module is to understand the parameters at play in the densification of snow, get familiar with important definitions often used in ice core science, build matlab/python code that impliments the Herron and Langway densification model and finally apply it on several ice core data sets frm Greenland and Antarctica.  "
   ]
  },
  {
   "cell_type": "markdown",
   "metadata": {},
   "source": [
    "## Stages of densification\n",
    "<img src=\"./figs/dome_c_density_herron.png\"  width=\"600\">\n",
    "\n",
    "* Initial snow to ** critical density ** $\\left( \\rho<550 {\\text{ kgm}}^{-3} \\right)$\n",
    "There is rapid densification at this stage via grain settling and packing. Particles rapidly reduce the total surface area of the crystals\n",
    "\n",
    "\n",
    "* Critical Density to approximately close-off depth\n",
    "Densification rates are slower at this stage with density slowly reaching close-off values $\\left(550<\\rho<820 \\text{  kgm}^{-3} \\right)$. At close off the air passages become clossed-off and form air bubbles.\n",
    "\n",
    "\n",
    "* Close-off density to ice $\\left(820<\\rho<920 \\text{  kgm}^{-3} \\right)$\n",
    "At this stage about 90% of the air has ascaped to the surface and the individual bubbles compress further for the ice to reach $920 \\text{  kgm}^{-3}$\n",
    "\n",
    "\n",
    "The process of densification is temperature and accumulation dependant.\n",
    "\n"
   ]
  },
  {
   "cell_type": "markdown",
   "metadata": {},
   "source": [
    "## Some definitions\n"
   ]
  },
  {
   "cell_type": "code",
   "execution_count": null,
   "metadata": {
    "collapsed": true
   },
   "outputs": [],
   "source": []
  }
 ],
 "metadata": {
  "kernelspec": {
   "display_name": "Python [conda root]",
   "language": "python",
   "name": "conda-root-py"
  },
  "language_info": {
   "codemirror_mode": {
    "name": "ipython",
    "version": 2
   },
   "file_extension": ".py",
   "mimetype": "text/x-python",
   "name": "python",
   "nbconvert_exporter": "python",
   "pygments_lexer": "ipython2",
   "version": "2.7.12"
  }
 },
 "nbformat": 4,
 "nbformat_minor": 1
}
